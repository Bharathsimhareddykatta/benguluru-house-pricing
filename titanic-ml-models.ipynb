{
 "cells": [
  {
   "cell_type": "code",
   "execution_count": 1,
   "id": "6380e38f",
   "metadata": {
    "_cell_guid": "b1076dfc-b9ad-4769-8c92-a6c4dae69d19",
    "_uuid": "8f2839f25d086af736a60e9eeb907d3b93b6e0e5",
    "execution": {
     "iopub.execute_input": "2024-07-13T09:15:33.863109Z",
     "iopub.status.busy": "2024-07-13T09:15:33.862673Z",
     "iopub.status.idle": "2024-07-13T09:15:34.907833Z",
     "shell.execute_reply": "2024-07-13T09:15:34.906331Z"
    },
    "papermill": {
     "duration": 1.06395,
     "end_time": "2024-07-13T09:15:34.910843",
     "exception": false,
     "start_time": "2024-07-13T09:15:33.846893",
     "status": "completed"
    },
    "tags": []
   },
   "outputs": [
    {
     "name": "stdout",
     "output_type": "stream",
     "text": [
      "/kaggle/input/titanic/train.csv\n",
      "/kaggle/input/titanic/test.csv\n",
      "/kaggle/input/titanic/gender_submission.csv\n"
     ]
    }
   ],
   "source": [
    "# This Python 3 environment comes with many helpful analytics libraries installed\n",
    "# It is defined by the kaggle/python Docker image: https://github.com/kaggle/docker-python\n",
    "# For example, here's several helpful packages to load\n",
    "\n",
    "import numpy as np # linear algebra\n",
    "import pandas as pd # data processing, CSV file I/O (e.g. pd.read_csv)\n",
    "\n",
    "# Input data files are available in the read-only \"../input/\" directory\n",
    "# For example, running this (by clicking run or pressing Shift+Enter) will list all files under the input directory\n",
    "\n",
    "import os\n",
    "for dirname, _, filenames in os.walk('/kaggle/input'):\n",
    "    for filename in filenames:\n",
    "        print(os.path.join(dirname, filename))\n",
    "\n",
    "# You can write up to 20GB to the current directory (/kaggle/working/) that gets preserved as output when you create a version using \"Save & Run All\" \n",
    "# You can also write temporary files to /kaggle/temp/, but they won't be saved outside of the current session"
   ]
  },
  {
   "cell_type": "code",
   "execution_count": 2,
   "id": "56ccbad1",
   "metadata": {
    "execution": {
     "iopub.execute_input": "2024-07-13T09:15:34.940608Z",
     "iopub.status.busy": "2024-07-13T09:15:34.940083Z",
     "iopub.status.idle": "2024-07-13T09:15:34.975803Z",
     "shell.execute_reply": "2024-07-13T09:15:34.974374Z"
    },
    "papermill": {
     "duration": 0.053694,
     "end_time": "2024-07-13T09:15:34.978751",
     "exception": false,
     "start_time": "2024-07-13T09:15:34.925057",
     "status": "completed"
    },
    "tags": []
   },
   "outputs": [
    {
     "data": {
      "text/html": [
       "<div>\n",
       "<style scoped>\n",
       "    .dataframe tbody tr th:only-of-type {\n",
       "        vertical-align: middle;\n",
       "    }\n",
       "\n",
       "    .dataframe tbody tr th {\n",
       "        vertical-align: top;\n",
       "    }\n",
       "\n",
       "    .dataframe thead th {\n",
       "        text-align: right;\n",
       "    }\n",
       "</style>\n",
       "<table border=\"1\" class=\"dataframe\">\n",
       "  <thead>\n",
       "    <tr style=\"text-align: right;\">\n",
       "      <th></th>\n",
       "      <th>PassengerId</th>\n",
       "      <th>Survived</th>\n",
       "    </tr>\n",
       "  </thead>\n",
       "  <tbody>\n",
       "    <tr>\n",
       "      <th>0</th>\n",
       "      <td>892</td>\n",
       "      <td>0</td>\n",
       "    </tr>\n",
       "    <tr>\n",
       "      <th>1</th>\n",
       "      <td>893</td>\n",
       "      <td>1</td>\n",
       "    </tr>\n",
       "    <tr>\n",
       "      <th>2</th>\n",
       "      <td>894</td>\n",
       "      <td>0</td>\n",
       "    </tr>\n",
       "    <tr>\n",
       "      <th>3</th>\n",
       "      <td>895</td>\n",
       "      <td>0</td>\n",
       "    </tr>\n",
       "    <tr>\n",
       "      <th>4</th>\n",
       "      <td>896</td>\n",
       "      <td>1</td>\n",
       "    </tr>\n",
       "  </tbody>\n",
       "</table>\n",
       "</div>"
      ],
      "text/plain": [
       "   PassengerId  Survived\n",
       "0          892         0\n",
       "1          893         1\n",
       "2          894         0\n",
       "3          895         0\n",
       "4          896         1"
      ]
     },
     "execution_count": 2,
     "metadata": {},
     "output_type": "execute_result"
    }
   ],
   "source": [
    "data_gender_sub=pd.read_csv(\"/kaggle/input/titanic/gender_submission.csv\")\n",
    "data_gender_sub.head()"
   ]
  },
  {
   "cell_type": "code",
   "execution_count": 3,
   "id": "6da7b1c3",
   "metadata": {
    "execution": {
     "iopub.execute_input": "2024-07-13T09:15:35.008512Z",
     "iopub.status.busy": "2024-07-13T09:15:35.008095Z",
     "iopub.status.idle": "2024-07-13T09:15:35.015331Z",
     "shell.execute_reply": "2024-07-13T09:15:35.014092Z"
    },
    "papermill": {
     "duration": 0.024825,
     "end_time": "2024-07-13T09:15:35.017785",
     "exception": false,
     "start_time": "2024-07-13T09:15:34.992960",
     "status": "completed"
    },
    "tags": []
   },
   "outputs": [
    {
     "data": {
      "text/plain": [
       "(418, 2)"
      ]
     },
     "execution_count": 3,
     "metadata": {},
     "output_type": "execute_result"
    }
   ],
   "source": [
    "data_gender_sub.shape\n"
   ]
  },
  {
   "cell_type": "code",
   "execution_count": 4,
   "id": "741dc314",
   "metadata": {
    "execution": {
     "iopub.execute_input": "2024-07-13T09:15:35.047148Z",
     "iopub.status.busy": "2024-07-13T09:15:35.046649Z",
     "iopub.status.idle": "2024-07-13T09:15:35.321705Z",
     "shell.execute_reply": "2024-07-13T09:15:35.320444Z"
    },
    "papermill": {
     "duration": 0.292951,
     "end_time": "2024-07-13T09:15:35.324460",
     "exception": false,
     "start_time": "2024-07-13T09:15:35.031509",
     "status": "completed"
    },
    "tags": []
   },
   "outputs": [
    {
     "data": {
      "image/png": "[encoded data removed]",
      "text/plain": [
       "<Figure size 640x480 with 1 Axes>"
      ]
     },
     "metadata": {},
     "output_type": "display_data"
    }
   ],
   "source": [
    "from matplotlib import pyplot as plt\n",
    "\n",
    "# Assuming `data_gender_sub` is your DataFrame and it contains columns 'PassengerId' and 'Survived'\n",
    "\n",
    "# Calculate counts for each category (for example, counts of survivors)\n",
    "counts = data_gender_sub['Survived'].value_counts()\n",
    "\n",
    "# Create bar plot\n",
    "counts.plot(kind='bar')\n",
    "\n",
    "# Hide top and right spines\n",
    "plt.gca().spines['top'].set_visible(False)\n",
    "plt.gca().spines['right'].set_visible(False)\n",
    "\n",
    "# Show the plot\n",
    "plt.show()\n"
   ]
  },
  {
   "cell_type": "code",
   "execution_count": 5,
   "id": "c905e66a",
   "metadata": {
    "execution": {
     "iopub.execute_input": "2024-07-13T09:15:35.356494Z",
     "iopub.status.busy": "2024-07-13T09:15:35.356092Z",
     "iopub.status.idle": "2024-07-13T09:15:35.365214Z",
     "shell.execute_reply": "2024-07-13T09:15:35.364100Z"
    },
    "papermill": {
     "duration": 0.027278,
     "end_time": "2024-07-13T09:15:35.367758",
     "exception": false,
     "start_time": "2024-07-13T09:15:35.340480",
     "status": "completed"
    },
    "tags": []
   },
   "outputs": [
    {
     "data": {
      "text/plain": [
       "Survived\n",
       "0    266\n",
       "1    152\n",
       "Name: count, dtype: int64"
      ]
     },
     "execution_count": 5,
     "metadata": {},
     "output_type": "execute_result"
    }
   ],
   "source": [
    "data_gender_sub['Survived'].value_counts()"
   ]
  },
  {
   "cell_type": "markdown",
   "id": "0abeaf87",
   "metadata": {
    "papermill": {
     "duration": 0.013927,
     "end_time": "2024-07-13T09:15:35.395862",
     "exception": false,
     "start_time": "2024-07-13T09:15:35.381935",
     "status": "completed"
    },
    "tags": []
   },
   "source": [
    "clearly we are seeing survived rate is 1 lessthan 0"
   ]
  },
  {
   "cell_type": "code",
   "execution_count": 6,
   "id": "25f6f9d5",
   "metadata": {
    "execution": {
     "iopub.execute_input": "2024-07-13T09:15:35.426525Z",
     "iopub.status.busy": "2024-07-13T09:15:35.426103Z",
     "iopub.status.idle": "2024-07-13T09:15:35.443528Z",
     "shell.execute_reply": "2024-07-13T09:15:35.442268Z"
    },
    "papermill": {
     "duration": 0.035792,
     "end_time": "2024-07-13T09:15:35.446172",
     "exception": false,
     "start_time": "2024-07-13T09:15:35.410380",
     "status": "completed"
    },
    "tags": []
   },
   "outputs": [
    {
     "data": {
      "text/plain": [
       "PassengerId      int64\n",
       "Pclass           int64\n",
       "Name            object\n",
       "Sex             object\n",
       "Age            float64\n",
       "SibSp            int64\n",
       "Parch            int64\n",
       "Ticket          object\n",
       "Fare           float64\n",
       "Cabin           object\n",
       "Embarked        object\n",
       "dtype: object"
      ]
     },
     "execution_count": 6,
     "metadata": {},
     "output_type": "execute_result"
    }
   ],
   "source": [
    "data_test=pd.read_csv(\"/kaggle/input/titanic/test.csv\")\n",
    "data_test.dtypes"
   ]
  },
  {
   "cell_type": "code",
   "execution_count": 7,
   "id": "fab8b8db",
   "metadata": {
    "execution": {
     "iopub.execute_input": "2024-07-13T09:15:35.476789Z",
     "iopub.status.busy": "2024-07-13T09:15:35.476351Z",
     "iopub.status.idle": "2024-07-13T09:15:35.503995Z",
     "shell.execute_reply": "2024-07-13T09:15:35.502687Z"
    },
    "papermill": {
     "duration": 0.046127,
     "end_time": "2024-07-13T09:15:35.506668",
     "exception": false,
     "start_time": "2024-07-13T09:15:35.460541",
     "status": "completed"
    },
    "tags": []
   },
   "outputs": [
    {
     "data": {
      "text/html": [
       "<div>\n",
       "<style scoped>\n",
       "    .dataframe tbody tr th:only-of-type {\n",
       "        vertical-align: middle;\n",
       "    }\n",
       "\n",
       "    .dataframe tbody tr th {\n",
       "        vertical-align: top;\n",
       "    }\n",
       "\n",
       "    .dataframe thead th {\n",
       "        text-align: right;\n",
       "    }\n",
       "</style>\n",
       "<table border=\"1\" class=\"dataframe\">\n",
       "  <thead>\n",
       "    <tr style=\"text-align: right;\">\n",
       "      <th></th>\n",
       "      <th>PassengerId</th>\n",
       "      <th>Survived</th>\n",
       "      <th>Pclass</th>\n",
       "      <th>Name</th>\n",
       "      <th>Sex</th>\n",
       "      <th>Age</th>\n",
       "      <th>SibSp</th>\n",
       "      <th>Parch</th>\n",
       "      <th>Ticket</th>\n",
       "      <th>Fare</th>\n",
       "      <th>Cabin</th>\n",
       "      <th>Embarked</th>\n",
       "    </tr>\n",
       "  </thead>\n",
       "  <tbody>\n",
       "    <tr>\n",
       "      <th>0</th>\n",
       "      <td>1</td>\n",
       "      <td>0</td>\n",
       "      <td>3</td>\n",
       "      <td>Braund, Mr. Owen Harris</td>\n",
       "      <td>male</td>\n",
       "      <td>22.0</td>\n",
       "      <td>1</td>\n",
       "      <td>0</td>\n",
       "      <td>A/5 21171</td>\n",
       "      <td>7.2500</td>\n",
       "      <td>NaN</td>\n",
       "      <td>S</td>\n",
       "    </tr>\n",
       "    <tr>\n",
       "      <th>1</th>\n",
       "      <td>2</td>\n",
       "      <td>1</td>\n",
       "      <td>1</td>\n",
       "      <td>Cumings, Mrs. John Bradley (Florence Briggs Th...</td>\n",
       "      <td>female</td>\n",
       "      <td>38.0</td>\n",
       "      <td>1</td>\n",
       "      <td>0</td>\n",
       "      <td>PC 17599</td>\n",
       "      <td>71.2833</td>\n",
       "      <td>C85</td>\n",
       "      <td>C</td>\n",
       "    </tr>\n",
       "    <tr>\n",
       "      <th>2</th>\n",
       "      <td>3</td>\n",
       "      <td>1</td>\n",
       "      <td>3</td>\n",
       "      <td>Heikkinen, Miss. Laina</td>\n",
       "      <td>female</td>\n",
       "      <td>26.0</td>\n",
       "      <td>0</td>\n",
       "      <td>0</td>\n",
       "      <td>STON/O2. 3101282</td>\n",
       "      <td>7.9250</td>\n",
       "      <td>NaN</td>\n",
       "      <td>S</td>\n",
       "    </tr>\n",
       "    <tr>\n",
       "      <th>3</th>\n",
       "      <td>4</td>\n",
       "      <td>1</td>\n",
       "      <td>1</td>\n",
       "      <td>Futrelle, Mrs. Jacques Heath (Lily May Peel)</td>\n",
       "      <td>female</td>\n",
       "      <td>35.0</td>\n",
       "      <td>1</td>\n",
       "      <td>0</td>\n",
       "      <td>113803</td>\n",
       "      <td>53.1000</td>\n",
       "      <td>C123</td>\n",
       "      <td>S</td>\n",
       "    </tr>\n",
       "    <tr>\n",
       "      <th>4</th>\n",
       "      <td>5</td>\n",
       "      <td>0</td>\n",
       "      <td>3</td>\n",
       "      <td>Allen, Mr. William Henry</td>\n",
       "      <td>male</td>\n",
       "      <td>35.0</td>\n",
       "      <td>0</td>\n",
       "      <td>0</td>\n",
       "      <td>373450</td>\n",
       "      <td>8.0500</td>\n",
       "      <td>NaN</td>\n",
       "      <td>S</td>\n",
       "    </tr>\n",
       "  </tbody>\n",
       "</table>\n",
       "</div>"
      ],
      "text/plain": [
       "   PassengerId  Survived  Pclass  \\\n",
       "0            1         0       3   \n",
       "1            2         1       1   \n",
       "2            3         1       3   \n",
       "3            4         1       1   \n",
       "4            5         0       3   \n",
       "\n",
       "                                                Name     Sex   Age  SibSp  \\\n",
       "0                            Braund, Mr. Owen Harris    male  22.0      1   \n",
       "1  Cumings, Mrs. John Bradley (Florence Briggs Th...  female  38.0      1   \n",
       "2                             Heikkinen, Miss. Laina  female  26.0      0   \n",
       "3       Futrelle, Mrs. Jacques Heath (Lily May Peel)  female  35.0      1   \n",
       "4                           Allen, Mr. William Henry    male  35.0      0   \n",
       "\n",
       "   Parch            Ticket     Fare Cabin Embarked  \n",
       "0      0         A/5 21171   7.2500   NaN        S  \n",
       "1      0          PC 17599  71.2833   C85        C  \n",
       "2      0  STON/O2. 3101282   7.9250   NaN        S  \n",
       "3      0            113803  53.1000  C123        S  \n",
       "4      0            373450   8.0500   NaN        S  "
      ]
     },
     "execution_count": 7,
     "metadata": {},
     "output_type": "execute_result"
    }
   ],
   "source": [
    "data_train=pd.read_csv(\"/kaggle/input/titanic/train.csv\")\n",
    "data_train.head()\n"
   ]
  },
  {
   "cell_type": "code",
   "execution_count": 8,
   "id": "1bf191fd",
   "metadata": {
    "execution": {
     "iopub.execute_input": "2024-07-13T09:15:35.538245Z",
     "iopub.status.busy": "2024-07-13T09:15:35.537812Z",
     "iopub.status.idle": "2024-07-13T09:15:35.546547Z",
     "shell.execute_reply": "2024-07-13T09:15:35.545325Z"
    },
    "papermill": {
     "duration": 0.027411,
     "end_time": "2024-07-13T09:15:35.549160",
     "exception": false,
     "start_time": "2024-07-13T09:15:35.521749",
     "status": "completed"
    },
    "tags": []
   },
   "outputs": [
    {
     "data": {
      "text/plain": [
       "0    892\n",
       "1    893\n",
       "2    894\n",
       "3    895\n",
       "4    896\n",
       "Name: PassengerId, dtype: int64"
      ]
     },
     "execution_count": 8,
     "metadata": {},
     "output_type": "execute_result"
    }
   ],
   "source": [
    "# Keep a copy of PassengerId in the test_data for later use\n",
    "test_passenger_id = data_test['PassengerId']\n",
    "test_passenger_id.head()"
   ]
  },
  {
   "cell_type": "code",
   "execution_count": 9,
   "id": "91950b6b",
   "metadata": {
    "execution": {
     "iopub.execute_input": "2024-07-13T09:15:35.583369Z",
     "iopub.status.busy": "2024-07-13T09:15:35.582940Z",
     "iopub.status.idle": "2024-07-13T09:15:37.396307Z",
     "shell.execute_reply": "2024-07-13T09:15:37.394989Z"
    },
    "papermill": {
     "duration": 1.834539,
     "end_time": "2024-07-13T09:15:37.399116",
     "exception": false,
     "start_time": "2024-07-13T09:15:35.564577",
     "status": "completed"
    },
    "tags": []
   },
   "outputs": [
    {
     "data": {
      "image/png": "[encoded data removed]",
      "text/plain": [
       "<Figure size 640x480 with 1 Axes>"
      ]
     },
     "metadata": {},
     "output_type": "display_data"
    }
   ],
   "source": [
    "import seaborn as sns\n",
    "data_train.groupby('Embarked').size().plot(kind='barh', color=sns.palettes.mpl_palette('Dark2'))\n",
    "plt.gca().spines[['top', 'right',]].set_visible(True)"
   ]
  },
  {
   "cell_type": "code",
   "execution_count": 10,
   "id": "48306581",
   "metadata": {
    "execution": {
     "iopub.execute_input": "2024-07-13T09:15:37.431595Z",
     "iopub.status.busy": "2024-07-13T09:15:37.431153Z",
     "iopub.status.idle": "2024-07-13T09:15:37.797609Z",
     "shell.execute_reply": "2024-07-13T09:15:37.796180Z"
    },
    "papermill": {
     "duration": 0.386555,
     "end_time": "2024-07-13T09:15:37.801039",
     "exception": false,
     "start_time": "2024-07-13T09:15:37.414484",
     "status": "completed"
    },
    "tags": []
   },
   "outputs": [
    {
     "data": {
      "image/png": "[encoded data removed]",
      "text/plain": [
       "<Figure size 640x480 with 1 Axes>"
      ]
     },
     "metadata": {},
     "output_type": "display_data"
    }
   ],
   "source": [
    "data_train['Age'].plot(kind='hist', bins=20, title='Age')\n",
    "plt.gca().spines[['top', 'right',]].set_visible(True)"
   ]
  },
  {
   "cell_type": "code",
   "execution_count": 11,
   "id": "4ed8b6f2",
   "metadata": {
    "execution": {
     "iopub.execute_input": "2024-07-13T09:15:37.835494Z",
     "iopub.status.busy": "2024-07-13T09:15:37.835106Z",
     "iopub.status.idle": "2024-07-13T09:15:37.844411Z",
     "shell.execute_reply": "2024-07-13T09:15:37.843232Z"
    },
    "papermill": {
     "duration": 0.029457,
     "end_time": "2024-07-13T09:15:37.846843",
     "exception": false,
     "start_time": "2024-07-13T09:15:37.817386",
     "status": "completed"
    },
    "tags": []
   },
   "outputs": [
    {
     "data": {
      "text/plain": [
       "Pclass\n",
       "3    491\n",
       "1    216\n",
       "2    184\n",
       "Name: count, dtype: int64"
      ]
     },
     "execution_count": 11,
     "metadata": {},
     "output_type": "execute_result"
    }
   ],
   "source": [
    "data_train.head()\n",
    "data_train['Pclass'].value_counts()"
   ]
  },
  {
   "cell_type": "code",
   "execution_count": 12,
   "id": "ba6307b9",
   "metadata": {
    "execution": {
     "iopub.execute_input": "2024-07-13T09:15:37.880762Z",
     "iopub.status.busy": "2024-07-13T09:15:37.879922Z",
     "iopub.status.idle": "2024-07-13T09:15:38.191077Z",
     "shell.execute_reply": "2024-07-13T09:15:38.189800Z"
    },
    "papermill": {
     "duration": 0.331718,
     "end_time": "2024-07-13T09:15:38.194111",
     "exception": false,
     "start_time": "2024-07-13T09:15:37.862393",
     "status": "completed"
    },
    "tags": []
   },
   "outputs": [
    {
     "data": {
      "image/png": "[encoded data removed]",
      "text/plain": [
       "<Figure size 640x480 with 1 Axes>"
      ]
     },
     "metadata": {},
     "output_type": "display_data"
    }
   ],
   "source": [
    "data_train.plot(kind='scatter', x='Survived', y='Pclass', s=32, alpha=.8)\n",
    "plt.gca().spines[['top', 'right',]].set_visible(False)"
   ]
  },
  {
   "cell_type": "code",
   "execution_count": 13,
   "id": "75e742b0",
   "metadata": {
    "execution": {
     "iopub.execute_input": "2024-07-13T09:15:38.227891Z",
     "iopub.status.busy": "2024-07-13T09:15:38.227472Z",
     "iopub.status.idle": "2024-07-13T09:15:41.076334Z",
     "shell.execute_reply": "2024-07-13T09:15:41.075096Z"
    },
    "papermill": {
     "duration": 2.868848,
     "end_time": "2024-07-13T09:15:41.079044",
     "exception": false,
     "start_time": "2024-07-13T09:15:38.210196",
     "status": "completed"
    },
    "tags": []
   },
   "outputs": [
    {
     "data": {
      "text/html": [
       "        <script type=\"text/javascript\">\n",
       "        window.PlotlyConfig = {MathJaxConfig: 'local'};\n",
       "        if (window.MathJax && window.MathJax.Hub && window.MathJax.Hub.Config) {window.MathJax.Hub.Config({SVG: {font: \"STIX-Web\"}});}\n",
       "        if (typeof require !== 'undefined') {\n",
       "        require.undef(\"plotly\");\n",
       "        requirejs.config({\n",
       "            paths: {\n",
       "                'plotly': ['https://cdn.plot.ly/plotly-2.27.0.min']\n",
       "            }\n",
       "        });\n",
       "        require(['plotly'], function(Plotly) {\n",
       "            window._Plotly = Plotly;\n",
       "        });\n",
       "        }\n",
       "        </script>\n",
       "        "
      ]
     },
     "metadata": {},
     "output_type": "display_data"
    },
    {
     "data": {
      "text/html": [
       "<div>                            <div id=\"e730bc72-7f9d-4efb-a842-7ec689d23759\" class=\"plotly-graph-div\" style=\"height:525px; width:100%;\"></div>            <script type=\"text/javascript\">                require([\"plotly\"], function(Plotly) {                    window.PLOTLYENV=window.PLOTLYENV || {};                                    if (document.getElementById(\"e730bc72-7f9d-4efb-a842-7ec689d23759\")) {                    Plotly.newPlot(                        \"e730bc72-7f9d-4efb-a842-7ec689d23759\",                        [{\"alignmentgroup\":\"True\",\"hovertemplate\":\"Survived=%{marker.color}\\u003cbr\\u003eCount=%{y}\\u003cextra\\u003e\\u003c\\u002fextra\\u003e\",\"legendgroup\":\"\",\"marker\":{\"color\":[0,1],\"coloraxis\":\"coloraxis\",\"pattern\":{\"shape\":\"\"}},\"name\":\"\",\"offsetgroup\":\"\",\"orientation\":\"v\",\"showlegend\":false,\"textposition\":\"auto\",\"x\":[0,1],\"xaxis\":\"x\",\"y\":[266,152],\"yaxis\":\"y\",\"type\":\"bar\"}],                        {\"template\":{\"data\":{\"histogram2dcontour\":[{\"type\":\"histogram2dcontour\",\"colorbar\":{\"outlinewidth\":0,\"ticks\":\"\"},\"colorscale\":[[0.0,\"#0d0887\"],[0.1111111111111111,\"#46039f\"],[0.2222222222222222,\"#7201a8\"],[0.3333333333333333,\"#9c179e\"],[0.4444444444444444,\"#bd3786\"],[0.5555555555555556,\"#d8576b\"],[0.6666666666666666,\"#ed7953\"],[0.7777777777777778,\"#fb9f3a\"],[0.8888888888888888,\"#fdca26\"],[1.0,\"#f0f921\"]]}],\"choropleth\":[{\"type\":\"choropleth\",\"colorbar\":{\"outlinewidth\":0,\"ticks\":\"\"}}],\"histogram2d\":[{\"type\":\"histogram2d\",\"colorbar\":{\"outlinewidth\":0,\"ticks\":\"\"},\"colorscale\":[[0.0,\"#0d0887\"],[0.1111111111111111,\"#46039f\"],[0.2222222222222222,\"#7201a8\"],[0.3333333333333333,\"#9c179e\"],[0.4444444444444444,\"#bd3786\"],[0.5555555555555556,\"#d8576b\"],[0.6666666666666666,\"#ed7953\"],[0.7777777777777778,\"#fb9f3a\"],[0.8888888888888888,\"#fdca26\"],[1.0,\"#f0f921\"]]}],\"heatmap\":[{\"type\":\"heatmap\",\"colorbar\":{\"outlinewidth\":0,\"ticks\":\"\"},\"colorscale\":[[0.0,\"#0d0887\"],[0.1111111111111111,\"#46039f\"],[0.2222222222222222,\"#7201a8\"],[0.3333333333333333,\"#9c179e\"],[0.4444444444444444,\"#bd3786\"],[0.5555555555555556,\"#d8576b\"],[0.6666666666666666,\"#ed7953\"],[0.7777777777777778,\"#fb9f3a\"],[0.8888888888888888,\"#fdca26\"],[1.0,\"#f0f921\"]]}],\"heatmapgl\":[{\"type\":\"heatmapgl\",\"colorbar\":{\"outlinewidth\":0,\"ticks\":\"\"},\"colorscale\":[[0.0,\"#0d0887\"],[0.1111111111111111,\"#46039f\"],[0.2222222222222222,\"#7201a8\"],[0.3333333333333333,\"#9c179e\"],[0.4444444444444444,\"#bd3786\"],[0.5555555555555556,\"#d8576b\"],[0.6666666666666666,\"#ed7953\"],[0.7777777777777778,\"#fb9f3a\"],[0.8888888888888888,\"#fdca26\"],[1.0,\"#f0f921\"]]}],\"contourcarpet\":[{\"type\":\"contourcarpet\",\"colorbar\":{\"outlinewidth\":0,\"ticks\":\"\"}}],\"contour\":[{\"type\":\"contour\",\"colorbar\":{\"outlinewidth\":0,\"ticks\":\"\"},\"colorscale\":[[0.0,\"#0d0887\"],[0.1111111111111111,\"#46039f\"],[0.2222222222222222,\"#7201a8\"],[0.3333333333333333,\"#9c179e\"],[0.4444444444444444,\"#bd3786\"],[0.5555555555555556,\"#d8576b\"],[0.6666666666666666,\"#ed7953\"],[0.7777777777777778,\"#fb9f3a\"],[0.8888888888888888,\"#fdca26\"],[1.0,\"#f0f921\"]]}],\"surface\":[{\"type\":\"surface\",\"colorbar\":{\"outlinewidth\":0,\"ticks\":\"\"},\"colorscale\":[[0.0,\"#0d0887\"],[0.1111111111111111,\"#46039f\"],[0.2222222222222222,\"#7201a8\"],[0.3333333333333333,\"#9c179e\"],[0.4444444444444444,\"#bd3786\"],[0.5555555555555556,\"#d8576b\"],[0.6666666666666666,\"#ed7953\"],[0.7777777777777778,\"#fb9f3a\"],[0.8888888888888888,\"#fdca26\"],[1.0,\"#f0f921\"]]}],\"mesh3d\":[{\"type\":\"mesh3d\",\"colorbar\":{\"outlinewidth\":0,\"ticks\":\"\"}}],\"scatter\":[{\"fillpattern\":{\"fillmode\":\"overlay\",\"size\":10,\"solidity\":0.2},\"type\":\"scatter\"}],\"parcoords\":[{\"type\":\"parcoords\",\"line\":{\"colorbar\":{\"outlinewidth\":0,\"ticks\":\"\"}}}],\"scatterpolargl\":[{\"type\":\"scatterpolargl\",\"marker\":{\"colorbar\":{\"outlinewidth\":0,\"ticks\":\"\"}}}],\"bar\":[{\"error_x\":{\"color\":\"#2a3f5f\"},\"error_y\":{\"color\":\"#2a3f5f\"},\"marker\":{\"line\":{\"color\":\"#E5ECF6\",\"width\":0.5},\"pattern\":{\"fillmode\":\"overlay\",\"size\":10,\"solidity\":0.2}},\"type\":\"bar\"}],\"scattergeo\":[{\"type\":\"scattergeo\",\"marker\":{\"colorbar\":{\"outlinewidth\":0,\"ticks\":\"\"}}}],\"scatterpolar\":[{\"type\":\"scatterpolar\",\"marker\":{\"colorbar\":{\"outlinewidth\":0,\"ticks\":\"\"}}}],\"histogram\":[{\"marker\":{\"pattern\":{\"fillmode\":\"overlay\",\"size\":10,\"solidity\":0.2}},\"type\":\"histogram\"}],\"scattergl\":[{\"type\":\"scattergl\",\"marker\":{\"colorbar\":{\"outlinewidth\":0,\"ticks\":\"\"}}}],\"scatter3d\":[{\"type\":\"scatter3d\",\"line\":{\"colorbar\":{\"outlinewidth\":0,\"ticks\":\"\"}},\"marker\":{\"colorbar\":{\"outlinewidth\":0,\"ticks\":\"\"}}}],\"scattermapbox\":[{\"type\":\"scattermapbox\",\"marker\":{\"colorbar\":{\"outlinewidth\":0,\"ticks\":\"\"}}}],\"scatterternary\":[{\"type\":\"scatterternary\",\"marker\":{\"colorbar\":{\"outlinewidth\":0,\"ticks\":\"\"}}}],\"scattercarpet\":[{\"type\":\"scattercarpet\",\"marker\":{\"colorbar\":{\"outlinewidth\":0,\"ticks\":\"\"}}}],\"carpet\":[{\"aaxis\":{\"endlinecolor\":\"#2a3f5f\",\"gridcolor\":\"white\",\"linecolor\":\"white\",\"minorgridcolor\":\"white\",\"startlinecolor\":\"#2a3f5f\"},\"baxis\":{\"endlinecolor\":\"#2a3f5f\",\"gridcolor\":\"white\",\"linecolor\":\"white\",\"minorgridcolor\":\"white\",\"startlinecolor\":\"#2a3f5f\"},\"type\":\"carpet\"}],\"table\":[{\"cells\":{\"fill\":{\"color\":\"#EBF0F8\"},\"line\":{\"color\":\"white\"}},\"header\":{\"fill\":{\"color\":\"#C8D4E3\"},\"line\":{\"color\":\"white\"}},\"type\":\"table\"}],\"barpolar\":[{\"marker\":{\"line\":{\"color\":\"#E5ECF6\",\"width\":0.5},\"pattern\":{\"fillmode\":\"overlay\",\"size\":10,\"solidity\":0.2}},\"type\":\"barpolar\"}],\"pie\":[{\"automargin\":true,\"type\":\"pie\"}]},\"layout\":{\"autotypenumbers\":\"strict\",\"colorway\":[\"#636efa\",\"#EF553B\",\"#00cc96\",\"#ab63fa\",\"#FFA15A\",\"#19d3f3\",\"#FF6692\",\"#B6E880\",\"#FF97FF\",\"#FECB52\"],\"font\":{\"color\":\"#2a3f5f\"},\"hovermode\":\"closest\",\"hoverlabel\":{\"align\":\"left\"},\"paper_bgcolor\":\"white\",\"plot_bgcolor\":\"#E5ECF6\",\"polar\":{\"bgcolor\":\"#E5ECF6\",\"angularaxis\":{\"gridcolor\":\"white\",\"linecolor\":\"white\",\"ticks\":\"\"},\"radialaxis\":{\"gridcolor\":\"white\",\"linecolor\":\"white\",\"ticks\":\"\"}},\"ternary\":{\"bgcolor\":\"#E5ECF6\",\"aaxis\":{\"gridcolor\":\"white\",\"linecolor\":\"white\",\"ticks\":\"\"},\"baxis\":{\"gridcolor\":\"white\",\"linecolor\":\"white\",\"ticks\":\"\"},\"caxis\":{\"gridcolor\":\"white\",\"linecolor\":\"white\",\"ticks\":\"\"}},\"coloraxis\":{\"colorbar\":{\"outlinewidth\":0,\"ticks\":\"\"}},\"colorscale\":{\"sequential\":[[0.0,\"#0d0887\"],[0.1111111111111111,\"#46039f\"],[0.2222222222222222,\"#7201a8\"],[0.3333333333333333,\"#9c179e\"],[0.4444444444444444,\"#bd3786\"],[0.5555555555555556,\"#d8576b\"],[0.6666666666666666,\"#ed7953\"],[0.7777777777777778,\"#fb9f3a\"],[0.8888888888888888,\"#fdca26\"],[1.0,\"#f0f921\"]],\"sequentialminus\":[[0.0,\"#0d0887\"],[0.1111111111111111,\"#46039f\"],[0.2222222222222222,\"#7201a8\"],[0.3333333333333333,\"#9c179e\"],[0.4444444444444444,\"#bd3786\"],[0.5555555555555556,\"#d8576b\"],[0.6666666666666666,\"#ed7953\"],[0.7777777777777778,\"#fb9f3a\"],[0.8888888888888888,\"#fdca26\"],[1.0,\"#f0f921\"]],\"diverging\":[[0,\"#8e0152\"],[0.1,\"#c51b7d\"],[0.2,\"#de77ae\"],[0.3,\"#f1b6da\"],[0.4,\"#fde0ef\"],[0.5,\"#f7f7f7\"],[0.6,\"#e6f5d0\"],[0.7,\"#b8e186\"],[0.8,\"#7fbc41\"],[0.9,\"#4d9221\"],[1,\"#276419\"]]},\"xaxis\":{\"gridcolor\":\"white\",\"linecolor\":\"white\",\"ticks\":\"\",\"title\":{\"standoff\":15},\"zerolinecolor\":\"white\",\"automargin\":true,\"zerolinewidth\":2},\"yaxis\":{\"gridcolor\":\"white\",\"linecolor\":\"white\",\"ticks\":\"\",\"title\":{\"standoff\":15},\"zerolinecolor\":\"white\",\"automargin\":true,\"zerolinewidth\":2},\"scene\":{\"xaxis\":{\"backgroundcolor\":\"#E5ECF6\",\"gridcolor\":\"white\",\"linecolor\":\"white\",\"showbackground\":true,\"ticks\":\"\",\"zerolinecolor\":\"white\",\"gridwidth\":2},\"yaxis\":{\"backgroundcolor\":\"#E5ECF6\",\"gridcolor\":\"white\",\"linecolor\":\"white\",\"showbackground\":true,\"ticks\":\"\",\"zerolinecolor\":\"white\",\"gridwidth\":2},\"zaxis\":{\"backgroundcolor\":\"#E5ECF6\",\"gridcolor\":\"white\",\"linecolor\":\"white\",\"showbackground\":true,\"ticks\":\"\",\"zerolinecolor\":\"white\",\"gridwidth\":2}},\"shapedefaults\":{\"line\":{\"color\":\"#2a3f5f\"}},\"annotationdefaults\":{\"arrowcolor\":\"#2a3f5f\",\"arrowhead\":0,\"arrowwidth\":1},\"geo\":{\"bgcolor\":\"white\",\"landcolor\":\"#E5ECF6\",\"subunitcolor\":\"white\",\"showland\":true,\"showlakes\":true,\"lakecolor\":\"white\"},\"title\":{\"x\":0.05},\"mapbox\":{\"style\":\"light\"}}},\"xaxis\":{\"anchor\":\"y\",\"domain\":[0.0,1.0],\"title\":{\"text\":\"Survived\"},\"categoryorder\":\"total descending\"},\"yaxis\":{\"anchor\":\"x\",\"domain\":[0.0,1.0],\"title\":{\"text\":\"Count\"}},\"coloraxis\":{\"colorbar\":{\"title\":{\"text\":\"Survived\"}},\"colorscale\":[[0.0,\"#0d0887\"],[0.1111111111111111,\"#46039f\"],[0.2222222222222222,\"#7201a8\"],[0.3333333333333333,\"#9c179e\"],[0.4444444444444444,\"#bd3786\"],[0.5555555555555556,\"#d8576b\"],[0.6666666666666666,\"#ed7953\"],[0.7777777777777778,\"#fb9f3a\"],[0.8888888888888888,\"#fdca26\"],[1.0,\"#f0f921\"]]},\"legend\":{\"tracegroupgap\":0},\"title\":{\"text\":\"Count of Passengers by Sex\"},\"barmode\":\"relative\"},                        {\"responsive\": true}                    ).then(function(){\n",
       "                            \n",
       "var gd = document.getElementById('e730bc72-7f9d-4efb-a842-7ec689d23759');\n",
       "var x = new MutationObserver(function (mutations, observer) {{\n",
       "        var display = window.getComputedStyle(gd).display;\n",
       "        if (!display || display === 'none') {{\n",
       "            console.log([gd, 'removed!']);\n",
       "            Plotly.purge(gd);\n",
       "            observer.disconnect();\n",
       "        }}\n",
       "}});\n",
       "\n",
       "// Listen for the removal of the full notebook cells\n",
       "var notebookContainer = gd.closest('#notebook-container');\n",
       "if (notebookContainer) {{\n",
       "    x.observe(notebookContainer, {childList: true});\n",
       "}}\n",
       "\n",
       "// Listen for the clearing of the current output cell\n",
       "var outputEl = gd.closest('.output');\n",
       "if (outputEl) {{\n",
       "    x.observe(outputEl, {childList: true});\n",
       "}}\n",
       "\n",
       "                        })                };                });            </script>        </div>"
      ]
     },
     "metadata": {},
     "output_type": "display_data"
    }
   ],
   "source": [
    "import plotly.express as px\n",
    "# data_train.groupby('Sex').size().plot(kind='barh', color=sns.palettes.mpl_palette('Dark2'))\n",
    "# plt.gca().spines[['top', 'right',]].set_visible(False)\n",
    "fig = px.bar(counts, x=counts.index, y=counts.values, labels={'x': 'Sex', 'y': 'Count'},\n",
    "             color=counts.index, color_discrete_map={'Male': 'blue', 'Female': 'orange'},\n",
    "             title='Count of Passengers by Sex')\n",
    "fig.update_layout(xaxis={'categoryorder':'total descending'})  # Optional: Order bars by total count\n",
    "fig.show()\n"
   ]
  },
  {
   "cell_type": "code",
   "execution_count": 14,
   "id": "425f01d2",
   "metadata": {
    "execution": {
     "iopub.execute_input": "2024-07-13T09:15:41.113733Z",
     "iopub.status.busy": "2024-07-13T09:15:41.113285Z",
     "iopub.status.idle": "2024-07-13T09:15:41.215066Z",
     "shell.execute_reply": "2024-07-13T09:15:41.213768Z"
    },
    "papermill": {
     "duration": 0.122244,
     "end_time": "2024-07-13T09:15:41.217747",
     "exception": false,
     "start_time": "2024-07-13T09:15:41.095503",
     "status": "completed"
    },
    "tags": []
   },
   "outputs": [
    {
     "data": {
      "text/html": [
       "<div>                            <div id=\"79536f08-b32a-4bcd-bb03-6cc57a6051c2\" class=\"plotly-graph-div\" style=\"height:525px; width:100%;\"></div>            <script type=\"text/javascript\">                require([\"plotly\"], function(Plotly) {                    window.PLOTLYENV=window.PLOTLYENV || {};                                    if (document.getElementById(\"79536f08-b32a-4bcd-bb03-6cc57a6051c2\")) {                    Plotly.newPlot(                        \"79536f08-b32a-4bcd-bb03-6cc57a6051c2\",                        [{\"alignmentgroup\":\"True\",\"hovertemplate\":\"Sex=%{y}\\u003cbr\\u003eCount=%{x}\\u003cextra\\u003e\\u003c\\u002fextra\\u003e\",\"legendgroup\":\"male\",\"marker\":{\"color\":\"#00cc96\",\"pattern\":{\"shape\":\"\"}},\"name\":\"male\",\"offsetgroup\":\"male\",\"orientation\":\"h\",\"showlegend\":true,\"textposition\":\"auto\",\"x\":[577],\"xaxis\":\"x\",\"y\":[\"male\"],\"yaxis\":\"y\",\"type\":\"bar\"},{\"alignmentgroup\":\"True\",\"hovertemplate\":\"Sex=%{y}\\u003cbr\\u003eCount=%{x}\\u003cextra\\u003e\\u003c\\u002fextra\\u003e\",\"legendgroup\":\"female\",\"marker\":{\"color\":\"#ab63fa\",\"pattern\":{\"shape\":\"\"}},\"name\":\"female\",\"offsetgroup\":\"female\",\"orientation\":\"h\",\"showlegend\":true,\"textposition\":\"auto\",\"x\":[314],\"xaxis\":\"x\",\"y\":[\"female\"],\"yaxis\":\"y\",\"type\":\"bar\"}],                        {\"template\":{\"data\":{\"histogram2dcontour\":[{\"type\":\"histogram2dcontour\",\"colorbar\":{\"outlinewidth\":0,\"ticks\":\"\"},\"colorscale\":[[0.0,\"#0d0887\"],[0.1111111111111111,\"#46039f\"],[0.2222222222222222,\"#7201a8\"],[0.3333333333333333,\"#9c179e\"],[0.4444444444444444,\"#bd3786\"],[0.5555555555555556,\"#d8576b\"],[0.6666666666666666,\"#ed7953\"],[0.7777777777777778,\"#fb9f3a\"],[0.8888888888888888,\"#fdca26\"],[1.0,\"#f0f921\"]]}],\"choropleth\":[{\"type\":\"choropleth\",\"colorbar\":{\"outlinewidth\":0,\"ticks\":\"\"}}],\"histogram2d\":[{\"type\":\"histogram2d\",\"colorbar\":{\"outlinewidth\":0,\"ticks\":\"\"},\"colorscale\":[[0.0,\"#0d0887\"],[0.1111111111111111,\"#46039f\"],[0.2222222222222222,\"#7201a8\"],[0.3333333333333333,\"#9c179e\"],[0.4444444444444444,\"#bd3786\"],[0.5555555555555556,\"#d8576b\"],[0.6666666666666666,\"#ed7953\"],[0.7777777777777778,\"#fb9f3a\"],[0.8888888888888888,\"#fdca26\"],[1.0,\"#f0f921\"]]}],\"heatmap\":[{\"type\":\"heatmap\",\"colorbar\":{\"outlinewidth\":0,\"ticks\":\"\"},\"colorscale\":[[0.0,\"#0d0887\"],[0.1111111111111111,\"#46039f\"],[0.2222222222222222,\"#7201a8\"],[0.3333333333333333,\"#9c179e\"],[0.4444444444444444,\"#bd3786\"],[0.5555555555555556,\"#d8576b\"],[0.6666666666666666,\"#ed7953\"],[0.7777777777777778,\"#fb9f3a\"],[0.8888888888888888,\"#fdca26\"],[1.0,\"#f0f921\"]]}],\"heatmapgl\":[{\"type\":\"heatmapgl\",\"colorbar\":{\"outlinewidth\":0,\"ticks\":\"\"},\"colorscale\":[[0.0,\"#0d0887\"],[0.1111111111111111,\"#46039f\"],[0.2222222222222222,\"#7201a8\"],[0.3333333333333333,\"#9c179e\"],[0.4444444444444444,\"#bd3786\"],[0.5555555555555556,\"#d8576b\"],[0.6666666666666666,\"#ed7953\"],[0.7777777777777778,\"#fb9f3a\"],[0.8888888888888888,\"#fdca26\"],[1.0,\"#f0f921\"]]}],\"contourcarpet\":[{\"type\":\"contourcarpet\",\"colorbar\":{\"outlinewidth\":0,\"ticks\":\"\"}}],\"contour\":[{\"type\":\"contour\",\"colorbar\":{\"outlinewidth\":0,\"ticks\":\"\"},\"colorscale\":[[0.0,\"#0d0887\"],[0.1111111111111111,\"#46039f\"],[0.2222222222222222,\"#7201a8\"],[0.3333333333333333,\"#9c179e\"],[0.4444444444444444,\"#bd3786\"],[0.5555555555555556,\"#d8576b\"],[0.6666666666666666,\"#ed7953\"],[0.7777777777777778,\"#fb9f3a\"],[0.8888888888888888,\"#fdca26\"],[1.0,\"#f0f921\"]]}],\"surface\":[{\"type\":\"surface\",\"colorbar\":{\"outlinewidth\":0,\"ticks\":\"\"},\"colorscale\":[[0.0,\"#0d0887\"],[0.1111111111111111,\"#46039f\"],[0.2222222222222222,\"#7201a8\"],[0.3333333333333333,\"#9c179e\"],[0.4444444444444444,\"#bd3786\"],[0.5555555555555556,\"#d8576b\"],[0.6666666666666666,\"#ed7953\"],[0.7777777777777778,\"#fb9f3a\"],[0.8888888888888888,\"#fdca26\"],[1.0,\"#f0f921\"]]}],\"mesh3d\":[{\"type\":\"mesh3d\",\"colorbar\":{\"outlinewidth\":0,\"ticks\":\"\"}}],\"scatter\":[{\"fillpattern\":{\"fillmode\":\"overlay\",\"size\":10,\"solidity\":0.2},\"type\":\"scatter\"}],\"parcoords\":[{\"type\":\"parcoords\",\"line\":{\"colorbar\":{\"outlinewidth\":0,\"ticks\":\"\"}}}],\"scatterpolargl\":[{\"type\":\"scatterpolargl\",\"marker\":{\"colorbar\":{\"outlinewidth\":0,\"ticks\":\"\"}}}],\"bar\":[{\"error_x\":{\"color\":\"#2a3f5f\"},\"error_y\":{\"color\":\"#2a3f5f\"},\"marker\":{\"line\":{\"color\":\"#E5ECF6\",\"width\":0.5},\"pattern\":{\"fillmode\":\"overlay\",\"size\":10,\"solidity\":0.2}},\"type\":\"bar\"}],\"scattergeo\":[{\"type\":\"scattergeo\",\"marker\":{\"colorbar\":{\"outlinewidth\":0,\"ticks\":\"\"}}}],\"scatterpolar\":[{\"type\":\"scatterpolar\",\"marker\":{\"colorbar\":{\"outlinewidth\":0,\"ticks\":\"\"}}}],\"histogram\":[{\"marker\":{\"pattern\":{\"fillmode\":\"overlay\",\"size\":10,\"solidity\":0.2}},\"type\":\"histogram\"}],\"scattergl\":[{\"type\":\"scattergl\",\"marker\":{\"colorbar\":{\"outlinewidth\":0,\"ticks\":\"\"}}}],\"scatter3d\":[{\"type\":\"scatter3d\",\"line\":{\"colorbar\":{\"outlinewidth\":0,\"ticks\":\"\"}},\"marker\":{\"colorbar\":{\"outlinewidth\":0,\"ticks\":\"\"}}}],\"scattermapbox\":[{\"type\":\"scattermapbox\",\"marker\":{\"colorbar\":{\"outlinewidth\":0,\"ticks\":\"\"}}}],\"scatterternary\":[{\"type\":\"scatterternary\",\"marker\":{\"colorbar\":{\"outlinewidth\":0,\"ticks\":\"\"}}}],\"scattercarpet\":[{\"type\":\"scattercarpet\",\"marker\":{\"colorbar\":{\"outlinewidth\":0,\"ticks\":\"\"}}}],\"carpet\":[{\"aaxis\":{\"endlinecolor\":\"#2a3f5f\",\"gridcolor\":\"white\",\"linecolor\":\"white\",\"minorgridcolor\":\"white\",\"startlinecolor\":\"#2a3f5f\"},\"baxis\":{\"endlinecolor\":\"#2a3f5f\",\"gridcolor\":\"white\",\"linecolor\":\"white\",\"minorgridcolor\":\"white\",\"startlinecolor\":\"#2a3f5f\"},\"type\":\"carpet\"}],\"table\":[{\"cells\":{\"fill\":{\"color\":\"#EBF0F8\"},\"line\":{\"color\":\"white\"}},\"header\":{\"fill\":{\"color\":\"#C8D4E3\"},\"line\":{\"color\":\"white\"}},\"type\":\"table\"}],\"barpolar\":[{\"marker\":{\"line\":{\"color\":\"#E5ECF6\",\"width\":0.5},\"pattern\":{\"fillmode\":\"overlay\",\"size\":10,\"solidity\":0.2}},\"type\":\"barpolar\"}],\"pie\":[{\"automargin\":true,\"type\":\"pie\"}]},\"layout\":{\"autotypenumbers\":\"strict\",\"colorway\":[\"#636efa\",\"#EF553B\",\"#00cc96\",\"#ab63fa\",\"#FFA15A\",\"#19d3f3\",\"#FF6692\",\"#B6E880\",\"#FF97FF\",\"#FECB52\"],\"font\":{\"color\":\"#2a3f5f\"},\"hovermode\":\"closest\",\"hoverlabel\":{\"align\":\"left\"},\"paper_bgcolor\":\"white\",\"plot_bgcolor\":\"#E5ECF6\",\"polar\":{\"bgcolor\":\"#E5ECF6\",\"angularaxis\":{\"gridcolor\":\"white\",\"linecolor\":\"white\",\"ticks\":\"\"},\"radialaxis\":{\"gridcolor\":\"white\",\"linecolor\":\"white\",\"ticks\":\"\"}},\"ternary\":{\"bgcolor\":\"#E5ECF6\",\"aaxis\":{\"gridcolor\":\"white\",\"linecolor\":\"white\",\"ticks\":\"\"},\"baxis\":{\"gridcolor\":\"white\",\"linecolor\":\"white\",\"ticks\":\"\"},\"caxis\":{\"gridcolor\":\"white\",\"linecolor\":\"white\",\"ticks\":\"\"}},\"coloraxis\":{\"colorbar\":{\"outlinewidth\":0,\"ticks\":\"\"}},\"colorscale\":{\"sequential\":[[0.0,\"#0d0887\"],[0.1111111111111111,\"#46039f\"],[0.2222222222222222,\"#7201a8\"],[0.3333333333333333,\"#9c179e\"],[0.4444444444444444,\"#bd3786\"],[0.5555555555555556,\"#d8576b\"],[0.6666666666666666,\"#ed7953\"],[0.7777777777777778,\"#fb9f3a\"],[0.8888888888888888,\"#fdca26\"],[1.0,\"#f0f921\"]],\"sequentialminus\":[[0.0,\"#0d0887\"],[0.1111111111111111,\"#46039f\"],[0.2222222222222222,\"#7201a8\"],[0.3333333333333333,\"#9c179e\"],[0.4444444444444444,\"#bd3786\"],[0.5555555555555556,\"#d8576b\"],[0.6666666666666666,\"#ed7953\"],[0.7777777777777778,\"#fb9f3a\"],[0.8888888888888888,\"#fdca26\"],[1.0,\"#f0f921\"]],\"diverging\":[[0,\"#8e0152\"],[0.1,\"#c51b7d\"],[0.2,\"#de77ae\"],[0.3,\"#f1b6da\"],[0.4,\"#fde0ef\"],[0.5,\"#f7f7f7\"],[0.6,\"#e6f5d0\"],[0.7,\"#b8e186\"],[0.8,\"#7fbc41\"],[0.9,\"#4d9221\"],[1,\"#276419\"]]},\"xaxis\":{\"gridcolor\":\"white\",\"linecolor\":\"white\",\"ticks\":\"\",\"title\":{\"standoff\":15},\"zerolinecolor\":\"white\",\"automargin\":true,\"zerolinewidth\":2},\"yaxis\":{\"gridcolor\":\"white\",\"linecolor\":\"white\",\"ticks\":\"\",\"title\":{\"standoff\":15},\"zerolinecolor\":\"white\",\"automargin\":true,\"zerolinewidth\":2},\"scene\":{\"xaxis\":{\"backgroundcolor\":\"#E5ECF6\",\"gridcolor\":\"white\",\"linecolor\":\"white\",\"showbackground\":true,\"ticks\":\"\",\"zerolinecolor\":\"white\",\"gridwidth\":2},\"yaxis\":{\"backgroundcolor\":\"#E5ECF6\",\"gridcolor\":\"white\",\"linecolor\":\"white\",\"showbackground\":true,\"ticks\":\"\",\"zerolinecolor\":\"white\",\"gridwidth\":2},\"zaxis\":{\"backgroundcolor\":\"#E5ECF6\",\"gridcolor\":\"white\",\"linecolor\":\"white\",\"showbackground\":true,\"ticks\":\"\",\"zerolinecolor\":\"white\",\"gridwidth\":2}},\"shapedefaults\":{\"line\":{\"color\":\"#2a3f5f\"}},\"annotationdefaults\":{\"arrowcolor\":\"#2a3f5f\",\"arrowhead\":0,\"arrowwidth\":1},\"geo\":{\"bgcolor\":\"white\",\"landcolor\":\"#E5ECF6\",\"subunitcolor\":\"white\",\"showland\":true,\"showlakes\":true,\"lakecolor\":\"white\"},\"title\":{\"x\":0.05},\"mapbox\":{\"style\":\"light\"}}},\"xaxis\":{\"anchor\":\"y\",\"domain\":[0.0,1.0],\"title\":{\"text\":\"Count\"}},\"yaxis\":{\"anchor\":\"x\",\"domain\":[0.0,1.0],\"title\":{\"text\":\"Sex\"},\"categoryorder\":\"array\",\"categoryarray\":[\"female\",\"male\"]},\"legend\":{\"title\":{\"text\":\"Sex\"},\"tracegroupgap\":0},\"title\":{\"text\":\"Count of Passengers by Sex\"},\"barmode\":\"relative\",\"showlegend\":false},                        {\"responsive\": true}                    ).then(function(){\n",
       "                            \n",
       "var gd = document.getElementById('79536f08-b32a-4bcd-bb03-6cc57a6051c2');\n",
       "var x = new MutationObserver(function (mutations, observer) {{\n",
       "        var display = window.getComputedStyle(gd).display;\n",
       "        if (!display || display === 'none') {{\n",
       "            console.log([gd, 'removed!']);\n",
       "            Plotly.purge(gd);\n",
       "            observer.disconnect();\n",
       "        }}\n",
       "}});\n",
       "\n",
       "// Listen for the removal of the full notebook cells\n",
       "var notebookContainer = gd.closest('#notebook-container');\n",
       "if (notebookContainer) {{\n",
       "    x.observe(notebookContainer, {childList: true});\n",
       "}}\n",
       "\n",
       "// Listen for the clearing of the current output cell\n",
       "var outputEl = gd.closest('.output');\n",
       "if (outputEl) {{\n",
       "    x.observe(outputEl, {childList: true});\n",
       "}}\n",
       "\n",
       "                        })                };                });            </script>        </div>"
      ]
     },
     "metadata": {},
     "output_type": "display_data"
    }
   ],
   "source": [
    "import pandas as pd\n",
    "import plotly.express as px\n",
    "import warnings\n",
    "warnings.filterwarnings('ignore')\n",
    "\n",
    "counts = data_train['Sex'].value_counts()\n",
    "\n",
    "# Define custom colors for 'Male' and 'Female'\n",
    "custom_colors = {\n",
    "    'Male': 'rgb(31, 119, 180)',   # blue\n",
    "    'Female': 'rgb(255, 127, 14)'  # orange\n",
    "}\n",
    "\n",
    "# Create bar plot using Plotly Express\n",
    "fig = px.bar(counts, y=counts.index, x=counts.values, labels={'y': 'Sex', 'x': 'Count'},\n",
    "             color=counts.index, color_discrete_map=custom_colors,\n",
    "             orientation='h', title='Count of Passengers by Sex')\n",
    "fig.update_layout(showlegend=False)  # Optional: Hide legend\n",
    "fig.show()\n"
   ]
  },
  {
   "cell_type": "code",
   "execution_count": 15,
   "id": "2cddd42d",
   "metadata": {
    "execution": {
     "iopub.execute_input": "2024-07-13T09:15:41.254025Z",
     "iopub.status.busy": "2024-07-13T09:15:41.252903Z",
     "iopub.status.idle": "2024-07-13T09:15:41.263385Z",
     "shell.execute_reply": "2024-07-13T09:15:41.262121Z"
    },
    "papermill": {
     "duration": 0.031555,
     "end_time": "2024-07-13T09:15:41.266107",
     "exception": false,
     "start_time": "2024-07-13T09:15:41.234552",
     "status": "completed"
    },
    "tags": []
   },
   "outputs": [
    {
     "data": {
      "text/plain": [
       "Sex\n",
       "female    314\n",
       "male      577\n",
       "dtype: int64"
      ]
     },
     "execution_count": 15,
     "metadata": {},
     "output_type": "execute_result"
    }
   ],
   "source": [
    "data_train.groupby('Sex').size()"
   ]
  },
  {
   "cell_type": "code",
   "execution_count": 16,
   "id": "2926189c",
   "metadata": {
    "execution": {
     "iopub.execute_input": "2024-07-13T09:15:41.301540Z",
     "iopub.status.busy": "2024-07-13T09:15:41.301115Z",
     "iopub.status.idle": "2024-07-13T09:15:41.655377Z",
     "shell.execute_reply": "2024-07-13T09:15:41.654281Z"
    },
    "papermill": {
     "duration": 0.375023,
     "end_time": "2024-07-13T09:15:41.658022",
     "exception": false,
     "start_time": "2024-07-13T09:15:41.282999",
     "status": "completed"
    },
    "tags": []
   },
   "outputs": [
    {
     "data": {
      "image/png": "[encoded data removed]",
      "text/plain": [
       "<Figure size 640x480 with 1 Axes>"
      ]
     },
     "metadata": {},
     "output_type": "display_data"
    }
   ],
   "source": [
    "data_train['Pclass'].plot(kind='hist', bins=20, title='Pclass')\n",
    "plt.gca().spines[['top', 'right',]].set_visible(False)"
   ]
  },
  {
   "cell_type": "code",
   "execution_count": 17,
   "id": "a2c2d400",
   "metadata": {
    "execution": {
     "iopub.execute_input": "2024-07-13T09:15:41.694284Z",
     "iopub.status.busy": "2024-07-13T09:15:41.693829Z",
     "iopub.status.idle": "2024-07-13T09:15:41.727698Z",
     "shell.execute_reply": "2024-07-13T09:15:41.726526Z"
    },
    "papermill": {
     "duration": 0.055164,
     "end_time": "2024-07-13T09:15:41.730254",
     "exception": false,
     "start_time": "2024-07-13T09:15:41.675090",
     "status": "completed"
    },
    "tags": []
   },
   "outputs": [
    {
     "data": {
      "text/html": [
       "<div>\n",
       "<style scoped>\n",
       "    .dataframe tbody tr th:only-of-type {\n",
       "        vertical-align: middle;\n",
       "    }\n",
       "\n",
       "    .dataframe tbody tr th {\n",
       "        vertical-align: top;\n",
       "    }\n",
       "\n",
       "    .dataframe thead th {\n",
       "        text-align: right;\n",
       "    }\n",
       "</style>\n",
       "<table border=\"1\" class=\"dataframe\">\n",
       "  <thead>\n",
       "    <tr style=\"text-align: right;\">\n",
       "      <th></th>\n",
       "      <th>PassengerId</th>\n",
       "      <th>Survived</th>\n",
       "      <th>Pclass</th>\n",
       "      <th>Age</th>\n",
       "      <th>SibSp</th>\n",
       "      <th>Parch</th>\n",
       "      <th>Fare</th>\n",
       "    </tr>\n",
       "  </thead>\n",
       "  <tbody>\n",
       "    <tr>\n",
       "      <th>count</th>\n",
       "      <td>891.000000</td>\n",
       "      <td>891.000000</td>\n",
       "      <td>891.000000</td>\n",
       "      <td>714.000000</td>\n",
       "      <td>891.000000</td>\n",
       "      <td>891.000000</td>\n",
       "      <td>891.000000</td>\n",
       "    </tr>\n",
       "    <tr>\n",
       "      <th>mean</th>\n",
       "      <td>446.000000</td>\n",
       "      <td>0.383838</td>\n",
       "      <td>2.308642</td>\n",
       "      <td>29.699118</td>\n",
       "      <td>0.523008</td>\n",
       "      <td>0.381594</td>\n",
       "      <td>32.204208</td>\n",
       "    </tr>\n",
       "    <tr>\n",
       "      <th>std</th>\n",
       "      <td>257.353842</td>\n",
       "      <td>0.486592</td>\n",
       "      <td>0.836071</td>\n",
       "      <td>14.526497</td>\n",
       "      <td>1.102743</td>\n",
       "      <td>0.806057</td>\n",
       "      <td>49.693429</td>\n",
       "    </tr>\n",
       "    <tr>\n",
       "      <th>min</th>\n",
       "      <td>1.000000</td>\n",
       "      <td>0.000000</td>\n",
       "      <td>1.000000</td>\n",
       "      <td>0.420000</td>\n",
       "      <td>0.000000</td>\n",
       "      <td>0.000000</td>\n",
       "      <td>0.000000</td>\n",
       "    </tr>\n",
       "    <tr>\n",
       "      <th>25%</th>\n",
       "      <td>223.500000</td>\n",
       "      <td>0.000000</td>\n",
       "      <td>2.000000</td>\n",
       "      <td>20.125000</td>\n",
       "      <td>0.000000</td>\n",
       "      <td>0.000000</td>\n",
       "      <td>7.910400</td>\n",
       "    </tr>\n",
       "    <tr>\n",
       "      <th>50%</th>\n",
       "      <td>446.000000</td>\n",
       "      <td>0.000000</td>\n",
       "      <td>3.000000</td>\n",
       "      <td>28.000000</td>\n",
       "      <td>0.000000</td>\n",
       "      <td>0.000000</td>\n",
       "      <td>14.454200</td>\n",
       "    </tr>\n",
       "    <tr>\n",
       "      <th>75%</th>\n",
       "      <td>668.500000</td>\n",
       "      <td>1.000000</td>\n",
       "      <td>3.000000</td>\n",
       "      <td>38.000000</td>\n",
       "      <td>1.000000</td>\n",
       "      <td>0.000000</td>\n",
       "      <td>31.000000</td>\n",
       "    </tr>\n",
       "    <tr>\n",
       "      <th>max</th>\n",
       "      <td>891.000000</td>\n",
       "      <td>1.000000</td>\n",
       "      <td>3.000000</td>\n",
       "      <td>80.000000</td>\n",
       "      <td>8.000000</td>\n",
       "      <td>6.000000</td>\n",
       "      <td>512.329200</td>\n",
       "    </tr>\n",
       "  </tbody>\n",
       "</table>\n",
       "</div>"
      ],
      "text/plain": [
       "       PassengerId    Survived      Pclass         Age       SibSp  \\\n",
       "count   891.000000  891.000000  891.000000  714.000000  891.000000   \n",
       "mean    446.000000    0.383838    2.308642   29.699118    0.523008   \n",
       "std     257.353842    0.486592    0.836071   14.526497    1.102743   \n",
       "min       1.000000    0.000000    1.000000    0.420000    0.000000   \n",
       "25%     223.500000    0.000000    2.000000   20.125000    0.000000   \n",
       "50%     446.000000    0.000000    3.000000   28.000000    0.000000   \n",
       "75%     668.500000    1.000000    3.000000   38.000000    1.000000   \n",
       "max     891.000000    1.000000    3.000000   80.000000    8.000000   \n",
       "\n",
       "            Parch        Fare  \n",
       "count  891.000000  891.000000  \n",
       "mean     0.381594   32.204208  \n",
       "std      0.806057   49.693429  \n",
       "min      0.000000    0.000000  \n",
       "25%      0.000000    7.910400  \n",
       "50%      0.000000   14.454200  \n",
       "75%      0.000000   31.000000  \n",
       "max      6.000000  512.329200  "
      ]
     },
     "execution_count": 17,
     "metadata": {},
     "output_type": "execute_result"
    }
   ],
   "source": [
    "data_train.describe()"
   ]
  },
  {
   "cell_type": "code",
   "execution_count": 18,
   "id": "f19e8c2c",
   "metadata": {
    "execution": {
     "iopub.execute_input": "2024-07-13T09:15:41.768164Z",
     "iopub.status.busy": "2024-07-13T09:15:41.767746Z",
     "iopub.status.idle": "2024-07-13T09:15:41.777952Z",
     "shell.execute_reply": "2024-07-13T09:15:41.776775Z"
    },
    "papermill": {
     "duration": 0.032158,
     "end_time": "2024-07-13T09:15:41.780450",
     "exception": false,
     "start_time": "2024-07-13T09:15:41.748292",
     "status": "completed"
    },
    "tags": []
   },
   "outputs": [
    {
     "data": {
      "text/plain": [
       "PassengerId      0\n",
       "Survived         0\n",
       "Pclass           0\n",
       "Name             0\n",
       "Sex              0\n",
       "Age            177\n",
       "SibSp            0\n",
       "Parch            0\n",
       "Ticket           0\n",
       "Fare             0\n",
       "Cabin          687\n",
       "Embarked         2\n",
       "dtype: int64"
      ]
     },
     "execution_count": 18,
     "metadata": {},
     "output_type": "execute_result"
    }
   ],
   "source": [
    "data_train.isnull().sum()"
   ]
  },
  {
   "cell_type": "code",
   "execution_count": 19,
   "id": "689ecdb5",
   "metadata": {
    "execution": {
     "iopub.execute_input": "2024-07-13T09:15:41.817829Z",
     "iopub.status.busy": "2024-07-13T09:15:41.817401Z",
     "iopub.status.idle": "2024-07-13T09:15:41.830745Z",
     "shell.execute_reply": "2024-07-13T09:15:41.829584Z"
    },
    "papermill": {
     "duration": 0.03551,
     "end_time": "2024-07-13T09:15:41.833565",
     "exception": false,
     "start_time": "2024-07-13T09:15:41.798055",
     "status": "completed"
    },
    "tags": []
   },
   "outputs": [],
   "source": [
    "# Fill missing values for numeric columns only\n",
    "numeric_cols = data_train.select_dtypes(include=['float64', 'int64']).columns\n",
    "data_train[numeric_cols] = data_train[numeric_cols].fillna(data_train[numeric_cols].mean())"
   ]
  },
  {
   "cell_type": "code",
   "execution_count": 20,
   "id": "e1cd14fb",
   "metadata": {
    "execution": {
     "iopub.execute_input": "2024-07-13T09:15:41.871403Z",
     "iopub.status.busy": "2024-07-13T09:15:41.870987Z",
     "iopub.status.idle": "2024-07-13T09:15:41.880322Z",
     "shell.execute_reply": "2024-07-13T09:15:41.879121Z"
    },
    "papermill": {
     "duration": 0.030802,
     "end_time": "2024-07-13T09:15:41.882782",
     "exception": false,
     "start_time": "2024-07-13T09:15:41.851980",
     "status": "completed"
    },
    "tags": []
   },
   "outputs": [
    {
     "data": {
      "text/plain": [
       "PassengerId      int64\n",
       "Survived         int64\n",
       "Pclass           int64\n",
       "Name            object\n",
       "Sex             object\n",
       "Age            float64\n",
       "SibSp            int64\n",
       "Parch            int64\n",
       "Ticket          object\n",
       "Fare           float64\n",
       "Cabin           object\n",
       "Embarked        object\n",
       "dtype: object"
      ]
     },
     "execution_count": 20,
     "metadata": {},
     "output_type": "execute_result"
    }
   ],
   "source": [
    "data_train.dtypes"
   ]
  },
  {
   "cell_type": "code",
   "execution_count": 21,
   "id": "a67c51d0",
   "metadata": {
    "execution": {
     "iopub.execute_input": "2024-07-13T09:15:41.920087Z",
     "iopub.status.busy": "2024-07-13T09:15:41.919645Z",
     "iopub.status.idle": "2024-07-13T09:15:41.926006Z",
     "shell.execute_reply": "2024-07-13T09:15:41.924715Z"
    },
    "papermill": {
     "duration": 0.027796,
     "end_time": "2024-07-13T09:15:41.928414",
     "exception": false,
     "start_time": "2024-07-13T09:15:41.900618",
     "status": "completed"
    },
    "tags": []
   },
   "outputs": [],
   "source": [
    "non_numeric_cols = data_train.select_dtypes(exclude=['float64', 'int64']).columns"
   ]
  },
  {
   "cell_type": "code",
   "execution_count": 22,
   "id": "60411a89",
   "metadata": {
    "execution": {
     "iopub.execute_input": "2024-07-13T09:15:41.966437Z",
     "iopub.status.busy": "2024-07-13T09:15:41.965149Z",
     "iopub.status.idle": "2024-07-13T09:15:41.973479Z",
     "shell.execute_reply": "2024-07-13T09:15:41.972206Z"
    },
    "papermill": {
     "duration": 0.030114,
     "end_time": "2024-07-13T09:15:41.976242",
     "exception": false,
     "start_time": "2024-07-13T09:15:41.946128",
     "status": "completed"
    },
    "tags": []
   },
   "outputs": [
    {
     "data": {
      "text/plain": [
       "Index(['PassengerId', 'Survived', 'Pclass', 'Name', 'Sex', 'Age', 'SibSp',\n",
       "       'Parch', 'Ticket', 'Fare', 'Cabin', 'Embarked'],\n",
       "      dtype='object')"
      ]
     },
     "execution_count": 22,
     "metadata": {},
     "output_type": "execute_result"
    }
   ],
   "source": [
    "data_train.columns"
   ]
  },
  {
   "cell_type": "code",
   "execution_count": 23,
   "id": "b58603d6",
   "metadata": {
    "execution": {
     "iopub.execute_input": "2024-07-13T09:15:42.014641Z",
     "iopub.status.busy": "2024-07-13T09:15:42.013622Z",
     "iopub.status.idle": "2024-07-13T09:15:42.022246Z",
     "shell.execute_reply": "2024-07-13T09:15:42.020886Z"
    },
    "papermill": {
     "duration": 0.030547,
     "end_time": "2024-07-13T09:15:42.024817",
     "exception": false,
     "start_time": "2024-07-13T09:15:41.994270",
     "status": "completed"
    },
    "tags": []
   },
   "outputs": [],
   "source": [
    "combined_data = pd.concat([data_train, data_test], sort=False)"
   ]
  },
  {
   "cell_type": "code",
   "execution_count": 24,
   "id": "d2bdf627",
   "metadata": {
    "execution": {
     "iopub.execute_input": "2024-07-13T09:15:42.062362Z",
     "iopub.status.busy": "2024-07-13T09:15:42.061958Z",
     "iopub.status.idle": "2024-07-13T09:15:42.081573Z",
     "shell.execute_reply": "2024-07-13T09:15:42.080432Z"
    },
    "papermill": {
     "duration": 0.041436,
     "end_time": "2024-07-13T09:15:42.084145",
     "exception": false,
     "start_time": "2024-07-13T09:15:42.042709",
     "status": "completed"
    },
    "tags": []
   },
   "outputs": [
    {
     "data": {
      "text/html": [
       "<div>\n",
       "<style scoped>\n",
       "    .dataframe tbody tr th:only-of-type {\n",
       "        vertical-align: middle;\n",
       "    }\n",
       "\n",
       "    .dataframe tbody tr th {\n",
       "        vertical-align: top;\n",
       "    }\n",
       "\n",
       "    .dataframe thead th {\n",
       "        text-align: right;\n",
       "    }\n",
       "</style>\n",
       "<table border=\"1\" class=\"dataframe\">\n",
       "  <thead>\n",
       "    <tr style=\"text-align: right;\">\n",
       "      <th></th>\n",
       "      <th>PassengerId</th>\n",
       "      <th>Survived</th>\n",
       "      <th>Pclass</th>\n",
       "      <th>Name</th>\n",
       "      <th>Sex</th>\n",
       "      <th>Age</th>\n",
       "      <th>SibSp</th>\n",
       "      <th>Parch</th>\n",
       "      <th>Ticket</th>\n",
       "      <th>Fare</th>\n",
       "      <th>Cabin</th>\n",
       "      <th>Embarked</th>\n",
       "    </tr>\n",
       "  </thead>\n",
       "  <tbody>\n",
       "    <tr>\n",
       "      <th>0</th>\n",
       "      <td>1</td>\n",
       "      <td>0.0</td>\n",
       "      <td>3</td>\n",
       "      <td>Braund, Mr. Owen Harris</td>\n",
       "      <td>male</td>\n",
       "      <td>22.0</td>\n",
       "      <td>1</td>\n",
       "      <td>0</td>\n",
       "      <td>A/5 21171</td>\n",
       "      <td>7.2500</td>\n",
       "      <td>NaN</td>\n",
       "      <td>S</td>\n",
       "    </tr>\n",
       "    <tr>\n",
       "      <th>1</th>\n",
       "      <td>2</td>\n",
       "      <td>1.0</td>\n",
       "      <td>1</td>\n",
       "      <td>Cumings, Mrs. John Bradley (Florence Briggs Th...</td>\n",
       "      <td>female</td>\n",
       "      <td>38.0</td>\n",
       "      <td>1</td>\n",
       "      <td>0</td>\n",
       "      <td>PC 17599</td>\n",
       "      <td>71.2833</td>\n",
       "      <td>C85</td>\n",
       "      <td>C</td>\n",
       "    </tr>\n",
       "    <tr>\n",
       "      <th>2</th>\n",
       "      <td>3</td>\n",
       "      <td>1.0</td>\n",
       "      <td>3</td>\n",
       "      <td>Heikkinen, Miss. Laina</td>\n",
       "      <td>female</td>\n",
       "      <td>26.0</td>\n",
       "      <td>0</td>\n",
       "      <td>0</td>\n",
       "      <td>STON/O2. 3101282</td>\n",
       "      <td>7.9250</td>\n",
       "      <td>NaN</td>\n",
       "      <td>S</td>\n",
       "    </tr>\n",
       "    <tr>\n",
       "      <th>3</th>\n",
       "      <td>4</td>\n",
       "      <td>1.0</td>\n",
       "      <td>1</td>\n",
       "      <td>Futrelle, Mrs. Jacques Heath (Lily May Peel)</td>\n",
       "      <td>female</td>\n",
       "      <td>35.0</td>\n",
       "      <td>1</td>\n",
       "      <td>0</td>\n",
       "      <td>113803</td>\n",
       "      <td>53.1000</td>\n",
       "      <td>C123</td>\n",
       "      <td>S</td>\n",
       "    </tr>\n",
       "    <tr>\n",
       "      <th>4</th>\n",
       "      <td>5</td>\n",
       "      <td>0.0</td>\n",
       "      <td>3</td>\n",
       "      <td>Allen, Mr. William Henry</td>\n",
       "      <td>male</td>\n",
       "      <td>35.0</td>\n",
       "      <td>0</td>\n",
       "      <td>0</td>\n",
       "      <td>373450</td>\n",
       "      <td>8.0500</td>\n",
       "      <td>NaN</td>\n",
       "      <td>S</td>\n",
       "    </tr>\n",
       "  </tbody>\n",
       "</table>\n",
       "</div>"
      ],
      "text/plain": [
       "   PassengerId  Survived  Pclass  \\\n",
       "0            1       0.0       3   \n",
       "1            2       1.0       1   \n",
       "2            3       1.0       3   \n",
       "3            4       1.0       1   \n",
       "4            5       0.0       3   \n",
       "\n",
       "                                                Name     Sex   Age  SibSp  \\\n",
       "0                            Braund, Mr. Owen Harris    male  22.0      1   \n",
       "1  Cumings, Mrs. John Bradley (Florence Briggs Th...  female  38.0      1   \n",
       "2                             Heikkinen, Miss. Laina  female  26.0      0   \n",
       "3       Futrelle, Mrs. Jacques Heath (Lily May Peel)  female  35.0      1   \n",
       "4                           Allen, Mr. William Henry    male  35.0      0   \n",
       "\n",
       "   Parch            Ticket     Fare Cabin Embarked  \n",
       "0      0         A/5 21171   7.2500   NaN        S  \n",
       "1      0          PC 17599  71.2833   C85        C  \n",
       "2      0  STON/O2. 3101282   7.9250   NaN        S  \n",
       "3      0            113803  53.1000  C123        S  \n",
       "4      0            373450   8.0500   NaN        S  "
      ]
     },
     "execution_count": 24,
     "metadata": {},
     "output_type": "execute_result"
    }
   ],
   "source": [
    "combined_data.head()\n"
   ]
  },
  {
   "cell_type": "code",
   "execution_count": 25,
   "id": "8ce249eb",
   "metadata": {
    "execution": {
     "iopub.execute_input": "2024-07-13T09:15:42.183674Z",
     "iopub.status.busy": "2024-07-13T09:15:42.182943Z",
     "iopub.status.idle": "2024-07-13T09:15:42.351467Z",
     "shell.execute_reply": "2024-07-13T09:15:42.350259Z"
    },
    "papermill": {
     "duration": 0.191248,
     "end_time": "2024-07-13T09:15:42.354285",
     "exception": false,
     "start_time": "2024-07-13T09:15:42.163037",
     "status": "completed"
    },
    "tags": []
   },
   "outputs": [],
   "source": [
    "from sklearn.preprocessing import StandardScaler, LabelEncoder"
   ]
  },
  {
   "cell_type": "code",
   "execution_count": 26,
   "id": "38b4f40c",
   "metadata": {
    "execution": {
     "iopub.execute_input": "2024-07-13T09:15:42.393860Z",
     "iopub.status.busy": "2024-07-13T09:15:42.392631Z",
     "iopub.status.idle": "2024-07-13T09:15:42.402303Z",
     "shell.execute_reply": "2024-07-13T09:15:42.401294Z"
    },
    "papermill": {
     "duration": 0.032044,
     "end_time": "2024-07-13T09:15:42.404928",
     "exception": false,
     "start_time": "2024-07-13T09:15:42.372884",
     "status": "completed"
    },
    "tags": []
   },
   "outputs": [],
   "source": [
    "# Fill missing values for 'Age' and 'Fare' with the median\n",
    "combined_data = combined_data.assign(Age=combined_data['Age'].fillna(combined_data['Age'].median()))\n",
    "combined_data = combined_data.assign(Fare=combined_data['Fare'].fillna(combined_data['Fare'].median()))"
   ]
  },
  {
   "cell_type": "code",
   "execution_count": 27,
   "id": "1dac257e",
   "metadata": {
    "execution": {
     "iopub.execute_input": "2024-07-13T09:15:42.444307Z",
     "iopub.status.busy": "2024-07-13T09:15:42.443199Z",
     "iopub.status.idle": "2024-07-13T09:15:42.451172Z",
     "shell.execute_reply": "2024-07-13T09:15:42.450149Z"
    },
    "papermill": {
     "duration": 0.030221,
     "end_time": "2024-07-13T09:15:42.453736",
     "exception": false,
     "start_time": "2024-07-13T09:15:42.423515",
     "status": "completed"
    },
    "tags": []
   },
   "outputs": [],
   "source": [
    "# Fill missing values for 'Embarked' with the most common value\n",
    "combined_data = combined_data.assign(Embarked=combined_data['Embarked'].fillna(combined_data['Embarked'].mode()[0]))"
   ]
  },
  {
   "cell_type": "code",
   "execution_count": 28,
   "id": "4ee155a2",
   "metadata": {
    "execution": {
     "iopub.execute_input": "2024-07-13T09:15:42.492801Z",
     "iopub.status.busy": "2024-07-13T09:15:42.491820Z",
     "iopub.status.idle": "2024-07-13T09:15:42.505229Z",
     "shell.execute_reply": "2024-07-13T09:15:42.504020Z"
    },
    "papermill": {
     "duration": 0.035688,
     "end_time": "2024-07-13T09:15:42.507885",
     "exception": false,
     "start_time": "2024-07-13T09:15:42.472197",
     "status": "completed"
    },
    "tags": []
   },
   "outputs": [],
   "source": [
    "# For 'Cabin', we'll fill missing values with 'Unknown' and create a new feature indicating the presence of a cabin\n",
    "combined_data = combined_data.assign(Cabin=combined_data['Cabin'].fillna('Unknown'))\n",
    "combined_data = combined_data.assign(Has_Cabin=combined_data['Cabin'].apply(lambda x: 0 if x == 'Unknown' else 1))"
   ]
  },
  {
   "cell_type": "code",
   "execution_count": 29,
   "id": "3df3f3eb",
   "metadata": {
    "execution": {
     "iopub.execute_input": "2024-07-13T09:15:42.546576Z",
     "iopub.status.busy": "2024-07-13T09:15:42.546179Z",
     "iopub.status.idle": "2024-07-13T09:15:42.554983Z",
     "shell.execute_reply": "2024-07-13T09:15:42.553708Z"
    },
    "papermill": {
     "duration": 0.031239,
     "end_time": "2024-07-13T09:15:42.557563",
     "exception": false,
     "start_time": "2024-07-13T09:15:42.526324",
     "status": "completed"
    },
    "tags": []
   },
   "outputs": [],
   "source": [
    "# Encode categorical variables\n",
    "label_encoder = LabelEncoder()\n",
    "combined_data['Sex'] = label_encoder.fit_transform(combined_data['Sex'])\n",
    "combined_data['Embarked'] = label_encoder.fit_transform(combined_data['Embarked'])"
   ]
  },
  {
   "cell_type": "code",
   "execution_count": 30,
   "id": "13c12b2c",
   "metadata": {
    "execution": {
     "iopub.execute_input": "2024-07-13T09:15:42.596493Z",
     "iopub.status.busy": "2024-07-13T09:15:42.596049Z",
     "iopub.status.idle": "2024-07-13T09:15:42.603210Z",
     "shell.execute_reply": "2024-07-13T09:15:42.602049Z"
    },
    "papermill": {
     "duration": 0.029415,
     "end_time": "2024-07-13T09:15:42.605660",
     "exception": false,
     "start_time": "2024-07-13T09:15:42.576245",
     "status": "completed"
    },
    "tags": []
   },
   "outputs": [],
   "source": [
    "# Drop unnecessary columns\n",
    "columns_to_drop = ['PassengerId', 'Name', 'Ticket', 'Cabin']\n",
    "combined_data.drop(columns=columns_to_drop, inplace=True)"
   ]
  },
  {
   "cell_type": "code",
   "execution_count": 31,
   "id": "38c4a738",
   "metadata": {
    "execution": {
     "iopub.execute_input": "2024-07-13T09:15:42.646039Z",
     "iopub.status.busy": "2024-07-13T09:15:42.645587Z",
     "iopub.status.idle": "2024-07-13T09:15:42.753607Z",
     "shell.execute_reply": "2024-07-13T09:15:42.751984Z"
    },
    "papermill": {
     "duration": 0.132129,
     "end_time": "2024-07-13T09:15:42.756436",
     "exception": false,
     "start_time": "2024-07-13T09:15:42.624307",
     "status": "completed"
    },
    "tags": []
   },
   "outputs": [],
   "source": [
    "from sklearn.model_selection import train_test_split"
   ]
  },
  {
   "cell_type": "code",
   "execution_count": 32,
   "id": "ae1a9e24",
   "metadata": {
    "execution": {
     "iopub.execute_input": "2024-07-13T09:15:42.796422Z",
     "iopub.status.busy": "2024-07-13T09:15:42.795614Z",
     "iopub.status.idle": "2024-07-13T09:15:42.801304Z",
     "shell.execute_reply": "2024-07-13T09:15:42.800013Z"
    },
    "papermill": {
     "duration": 0.028451,
     "end_time": "2024-07-13T09:15:42.803902",
     "exception": false,
     "start_time": "2024-07-13T09:15:42.775451",
     "status": "completed"
    },
    "tags": []
   },
   "outputs": [],
   "source": [
    "from sklearn.preprocessing import StandardScaler, LabelEncoder"
   ]
  },
  {
   "cell_type": "code",
   "execution_count": 33,
   "id": "d27cad62",
   "metadata": {
    "execution": {
     "iopub.execute_input": "2024-07-13T09:15:42.843221Z",
     "iopub.status.busy": "2024-07-13T09:15:42.842798Z",
     "iopub.status.idle": "2024-07-13T09:15:42.847967Z",
     "shell.execute_reply": "2024-07-13T09:15:42.846820Z"
    },
    "papermill": {
     "duration": 0.027618,
     "end_time": "2024-07-13T09:15:42.850505",
     "exception": false,
     "start_time": "2024-07-13T09:15:42.822887",
     "status": "completed"
    },
    "tags": []
   },
   "outputs": [],
   "source": [
    "from sklearn.preprocessing import LabelEncoder"
   ]
  },
  {
   "cell_type": "code",
   "execution_count": 34,
   "id": "c545ccfc",
   "metadata": {
    "execution": {
     "iopub.execute_input": "2024-07-13T09:15:42.890600Z",
     "iopub.status.busy": "2024-07-13T09:15:42.890182Z",
     "iopub.status.idle": "2024-07-13T09:15:42.903772Z",
     "shell.execute_reply": "2024-07-13T09:15:42.902772Z"
    },
    "papermill": {
     "duration": 0.036224,
     "end_time": "2024-07-13T09:15:42.906561",
     "exception": false,
     "start_time": "2024-07-13T09:15:42.870337",
     "status": "completed"
    },
    "tags": []
   },
   "outputs": [],
   "source": [
    "# Assuming combined_data is your DataFrame with the features and 'Survived' as the target\n",
    "# Drop rows with missing target values\n",
    "combined_data = combined_data.dropna(subset=['Survived'])\n",
    "\n",
    "# Define features and target\n",
    "X = combined_data.drop('Survived', axis=1)\n",
    "y = combined_data['Survived']\n",
    "\n",
    "# Split the data into training and test sets\n",
    "X_train, X_test, y_train, y_test = train_test_split(X, y, test_size=0.2, random_state=42)"
   ]
  },
  {
   "cell_type": "code",
   "execution_count": 35,
   "id": "40f3ddff",
   "metadata": {
    "execution": {
     "iopub.execute_input": "2024-07-13T09:15:42.945438Z",
     "iopub.status.busy": "2024-07-13T09:15:42.945034Z",
     "iopub.status.idle": "2024-07-13T09:15:43.050054Z",
     "shell.execute_reply": "2024-07-13T09:15:43.048809Z"
    },
    "papermill": {
     "duration": 0.128189,
     "end_time": "2024-07-13T09:15:43.053266",
     "exception": false,
     "start_time": "2024-07-13T09:15:42.925077",
     "status": "completed"
    },
    "tags": []
   },
   "outputs": [],
   "source": [
    "from sklearn.linear_model import LogisticRegression"
   ]
  },
  {
   "cell_type": "code",
   "execution_count": 36,
   "id": "db1c71eb",
   "metadata": {
    "execution": {
     "iopub.execute_input": "2024-07-13T09:15:43.091940Z",
     "iopub.status.busy": "2024-07-13T09:15:43.091489Z",
     "iopub.status.idle": "2024-07-13T09:15:43.096869Z",
     "shell.execute_reply": "2024-07-13T09:15:43.095681Z"
    },
    "papermill": {
     "duration": 0.027375,
     "end_time": "2024-07-13T09:15:43.099200",
     "exception": false,
     "start_time": "2024-07-13T09:15:43.071825",
     "status": "completed"
    },
    "tags": []
   },
   "outputs": [],
   "source": [
    "from sklearn.metrics import accuracy_score, confusion_matrix, classification_report"
   ]
  },
  {
   "cell_type": "code",
   "execution_count": 37,
   "id": "badbc892",
   "metadata": {
    "execution": {
     "iopub.execute_input": "2024-07-13T09:15:43.138077Z",
     "iopub.status.busy": "2024-07-13T09:15:43.137610Z",
     "iopub.status.idle": "2024-07-13T09:15:43.196045Z",
     "shell.execute_reply": "2024-07-13T09:15:43.194797Z"
    },
    "papermill": {
     "duration": 0.081279,
     "end_time": "2024-07-13T09:15:43.199126",
     "exception": false,
     "start_time": "2024-07-13T09:15:43.117847",
     "status": "completed"
    },
    "tags": []
   },
   "outputs": [
    {
     "name": "stdout",
     "output_type": "stream",
     "text": [
      "Logistic Regression Accuracy: 80.06%\n"
     ]
    }
   ],
   "source": [
    "# Train logistic regression model\n",
    "logreg = LogisticRegression(max_iter=1000)\n",
    "logreg.fit(X_train, y_train)\n",
    "# Predict on the test data\n",
    "y_pred = logreg.predict(X_test)\n",
    "# Evaluate model on training data (since test data has no target variable)\n",
    "train_logi = logreg.predict(X_train)\n",
    "accuracy_logi = accuracy_score(y_train,train_logi)\n",
    "print(f\"Logistic Regression Accuracy: {accuracy_logi * 100:.2f}%\")"
   ]
  },
  {
   "cell_type": "code",
   "execution_count": 38,
   "id": "6537a3c3",
   "metadata": {
    "execution": {
     "iopub.execute_input": "2024-07-13T09:15:43.238201Z",
     "iopub.status.busy": "2024-07-13T09:15:43.237764Z",
     "iopub.status.idle": "2024-07-13T09:15:43.554797Z",
     "shell.execute_reply": "2024-07-13T09:15:43.553802Z"
    },
    "papermill": {
     "duration": 0.339627,
     "end_time": "2024-07-13T09:15:43.557500",
     "exception": false,
     "start_time": "2024-07-13T09:15:43.217873",
     "status": "completed"
    },
    "tags": []
   },
   "outputs": [
    {
     "name": "stdout",
     "output_type": "stream",
     "text": [
      "XGBoost Accuracy: 96.77%\n"
     ]
    }
   ],
   "source": [
    "from xgboost import XGBClassifier\n",
    "xgboost=XGBClassifier(use_label_encoder=False, eval_metric='logloss')\n",
    "xgboost.fit(X_train, y_train)\n",
    "y_pred_xg=xgboost.predict(X_test)\n",
    "train_xg=xgboost.predict(X_train)\n",
    "accuracy_xg = accuracy_score(y_train, train_xg)\n",
    "print(f\"XGBoost Accuracy: {accuracy_xg * 100:.2f}%\")"
   ]
  },
  {
   "cell_type": "code",
   "execution_count": 39,
   "id": "fa1dcb61",
   "metadata": {
    "execution": {
     "iopub.execute_input": "2024-07-13T09:15:43.597882Z",
     "iopub.status.busy": "2024-07-13T09:15:43.597443Z",
     "iopub.status.idle": "2024-07-13T09:15:43.615805Z",
     "shell.execute_reply": "2024-07-13T09:15:43.614603Z"
    },
    "papermill": {
     "duration": 0.040932,
     "end_time": "2024-07-13T09:15:43.618401",
     "exception": false,
     "start_time": "2024-07-13T09:15:43.577469",
     "status": "completed"
    },
    "tags": []
   },
   "outputs": [
    {
     "name": "stdout",
     "output_type": "stream",
     "text": [
      "Naive Bayes Accuracy on Training Set: 79.07%\n"
     ]
    }
   ],
   "source": [
    "from sklearn.naive_bayes import GaussianNB\n",
    "from sklearn.metrics import accuracy_score\n",
    "\n",
    "# Train a Naive Bayes model\n",
    "model_nb = GaussianNB()\n",
    "model_nb.fit(X_train, y_train)\n",
    "\n",
    "# Predict on the training set\n",
    "train_predictions_nb = model_nb.predict(X_train)\n",
    "\n",
    "# Predict on the test set\n",
    "test_predictions_nb = model_nb.predict(X_test)\n",
    "\n",
    "# Calculate accuracy on the training set\n",
    "accuracy_nb_train = accuracy_score(y_train, train_predictions_nb)\n",
    "print(f\"Naive Bayes Accuracy on Training Set: {accuracy_nb_train * 100:.2f}%\")"
   ]
  },
  {
   "cell_type": "code",
   "execution_count": 40,
   "id": "6142e53d",
   "metadata": {
    "execution": {
     "iopub.execute_input": "2024-07-13T09:15:43.659306Z",
     "iopub.status.busy": "2024-07-13T09:15:43.658880Z",
     "iopub.status.idle": "2024-07-13T09:15:44.135358Z",
     "shell.execute_reply": "2024-07-13T09:15:44.134026Z"
    },
    "papermill": {
     "duration": 0.499283,
     "end_time": "2024-07-13T09:15:44.138026",
     "exception": false,
     "start_time": "2024-07-13T09:15:43.638743",
     "status": "completed"
    },
    "tags": []
   },
   "outputs": [
    {
     "name": "stdout",
     "output_type": "stream",
     "text": [
      "Random Forest Accuracy on Training Set: 98.46%\n",
      "Random Forest Accuracy on Test Set: 80.45%\n"
     ]
    }
   ],
   "source": [
    "from sklearn.ensemble import RandomForestClassifier\n",
    "from sklearn.metrics import accuracy_score\n",
    "\n",
    "# Train a Random Forest model\n",
    "model_rf = RandomForestClassifier(n_estimators=100, random_state=42)\n",
    "model_rf.fit(X_train, y_train)\n",
    "\n",
    "# Predict on the training set\n",
    "train_predictions_rf = model_rf.predict(X_train)\n",
    "\n",
    "# Predict on the test set\n",
    "test_predictions_rf = model_rf.predict(X_test)\n",
    "\n",
    "# Calculate accuracy on the training set\n",
    "accuracy_rf_train = accuracy_score(y_train, train_predictions_rf)\n",
    "print(f\"Random Forest Accuracy on Training Set: {accuracy_rf_train * 100:.2f}%\")\n",
    "\n",
    "# Calculate accuracy on the test set\n",
    "accuracy_rf_test = accuracy_score(y_test, test_predictions_rf)\n",
    "print(f\"Random Forest Accuracy on Test Set: {accuracy_rf_test * 100:.2f}%\")"
   ]
  },
  {
   "cell_type": "code",
   "execution_count": null,
   "id": "7ed7a61e",
   "metadata": {
    "papermill": {
     "duration": 0.018613,
     "end_time": "2024-07-13T09:15:44.175379",
     "exception": false,
     "start_time": "2024-07-13T09:15:44.156766",
     "status": "completed"
    },
    "tags": []
   },
   "outputs": [],
   "source": []
  }
 ],
 "metadata": {
  "kaggle": {
   "accelerator": "none",
   "dataSources": [
    {
     "databundleVersionId": 26502,
     "sourceId": 3136,
     "sourceType": "competition"
    }
   ],
   "dockerImageVersionId": 30732,
   "isGpuEnabled": false,
   "isInternetEnabled": false,
   "language": "python",
   "sourceType": "notebook"
  },
  "kernelspec": {
   "display_name": "Python 3",
   "language": "python",
   "name": "python3"
  },
  "language_info": {
   "codemirror_mode": {
    "name": "ipython",
    "version": 3
   },
   "file_extension": ".py",
   "mimetype": "text/x-python",
   "name": "python",
   "nbconvert_exporter": "python",
   "pygments_lexer": "ipython3",
   "version": "3.10.13"
  },
  "papermill": {
   "default_parameters": {},
   "duration": 14.371647,
   "end_time": "2024-07-13T09:15:45.017767",
   "environment_variables": {},
   "exception": null,
   "input_path": "__notebook__.ipynb",
   "output_path": "__notebook__.ipynb",
   "parameters": {},
   "start_time": "2024-07-13T09:15:30.646120",
   "version": "2.5.0"
  }
 },
 "nbformat": 4,
 "nbformat_minor": 5
}
